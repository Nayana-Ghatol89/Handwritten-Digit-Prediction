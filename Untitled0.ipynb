{
  "nbformat": 4,
  "nbformat_minor": 0,
  "metadata": {
    "colab": {
      "provenance": [],
      "authorship_tag": "ABX9TyOl0p+0sNKXfDrfUAC5N6Xw",
      "include_colab_link": true
    },
    "kernelspec": {
      "name": "python3",
      "display_name": "Python 3"
    },
    "language_info": {
      "name": "python"
    }
  },
  "cells": [
    {
      "cell_type": "markdown",
      "metadata": {
        "id": "view-in-github",
        "colab_type": "text"
      },
      "source": [
        "<a href=\"https://colab.research.google.com/github/Nayana-Ghatol89/Handwritten-Digit-Prediction/blob/main/Untitled0.ipynb\" target=\"_parent\"><img src=\"https://colab.research.google.com/assets/colab-badge.svg\" alt=\"Open In Colab\"/></a>"
      ]
    },
    {
      "cell_type": "markdown",
      "source": [
        "# **Import** **Library**"
      ],
      "metadata": {
        "id": "3QmQ2Wz19T_I"
      }
    },
    {
      "cell_type": "code",
      "execution_count": 2,
      "metadata": {
        "id": "HfGDkAK9Wq12"
      },
      "outputs": [],
      "source": [
        "import pandas as pd"
      ]
    },
    {
      "cell_type": "code",
      "source": [
        "import numpy as np"
      ],
      "metadata": {
        "id": "IIOo3mpd9qOL"
      },
      "execution_count": 3,
      "outputs": []
    },
    {
      "cell_type": "code",
      "source": [
        "import matplotlib.pyplot as plt"
      ],
      "metadata": {
        "id": "PBPoUYf7C5KL"
      },
      "execution_count": 40,
      "outputs": []
    },
    {
      "cell_type": "code",
      "source": [
        "from sklearn.datasets import load_digits"
      ],
      "metadata": {
        "id": "1AoqDbn6DIt5"
      },
      "execution_count": 41,
      "outputs": []
    },
    {
      "cell_type": "code",
      "source": [
        "df = load_digits()"
      ],
      "metadata": {
        "id": "Q3vEye7RDOzz"
      },
      "execution_count": 42,
      "outputs": []
    },
    {
      "cell_type": "code",
      "source": [
        "_, axes = plt.subplots(nrows=1,ncols=4,figsize=(10, 3))\n",
        "for ax, image,label in zip(axes,df.images, df.target):\n",
        "    ax.set_axis_off()\n",
        "    ax.imshow(image,cmap=plt.cm.gray_r,interpolation=\"nearest\")\n",
        "    ax.set_title(\"Training:%i\" % label)"
      ],
      "metadata": {
        "colab": {
          "base_uri": "https://localhost:8080/",
          "height": 227
        },
        "id": "tlV7Gw5TDUBv",
        "outputId": "f1c49ddc-6684-4e8d-94f8-5243f2f66b8d"
      },
      "execution_count": 46,
      "outputs": [
        {
          "output_type": "display_data",
          "data": {
            "text/plain": [
              "<Figure size 1000x300 with 4 Axes>"
            ],
            "image/png": "[encoded data removed]"
          },
          "metadata": {}
        }
      ]
    },
    {
      "cell_type": "code",
      "source": [
        "df.images.shape"
      ],
      "metadata": {
        "colab": {
          "base_uri": "https://localhost:8080/"
        },
        "id": "0R77zwLXExwj",
        "outputId": "83c33b2e-0f09-497b-c1d1-1d8d397ef72d"
      },
      "execution_count": 48,
      "outputs": [
        {
          "output_type": "execute_result",
          "data": {
            "text/plain": [
              "(1797, 8, 8)"
            ]
          },
          "metadata": {},
          "execution_count": 48
        }
      ]
    },
    {
      "cell_type": "code",
      "source": [
        "df.images[0]"
      ],
      "metadata": {
        "colab": {
          "base_uri": "https://localhost:8080/"
        },
        "id": "aukAwHK-FEHk",
        "outputId": "f3cfcead-3dc8-49fb-852e-476959f3de7a"
      },
      "execution_count": 49,
      "outputs": [
        {
          "output_type": "execute_result",
          "data": {
            "text/plain": [
              "array([[ 0.,  0.,  5., 13.,  9.,  1.,  0.,  0.],\n",
              "       [ 0.,  0., 13., 15., 10., 15.,  5.,  0.],\n",
              "       [ 0.,  3., 15.,  2.,  0., 11.,  8.,  0.],\n",
              "       [ 0.,  4., 12.,  0.,  0.,  8.,  8.,  0.],\n",
              "       [ 0.,  5.,  8.,  0.,  0.,  9.,  8.,  0.],\n",
              "       [ 0.,  4., 11.,  0.,  1., 12.,  7.,  0.],\n",
              "       [ 0.,  2., 14.,  5., 10., 12.,  0.,  0.],\n",
              "       [ 0.,  0.,  6., 13., 10.,  0.,  0.,  0.]])"
            ]
          },
          "metadata": {},
          "execution_count": 49
        }
      ]
    },
    {
      "cell_type": "code",
      "source": [
        "df.images[0].shape"
      ],
      "metadata": {
        "colab": {
          "base_uri": "https://localhost:8080/"
        },
        "id": "HPFwUIV6FGZF",
        "outputId": "fadacc56-52c6-4ba3-b4b3-83def8c5a649"
      },
      "execution_count": 50,
      "outputs": [
        {
          "output_type": "execute_result",
          "data": {
            "text/plain": [
              "(8, 8)"
            ]
          },
          "metadata": {},
          "execution_count": 50
        }
      ]
    },
    {
      "cell_type": "code",
      "source": [
        "len(df.images)"
      ],
      "metadata": {
        "colab": {
          "base_uri": "https://localhost:8080/"
        },
        "id": "Tij0hLR0FOvE",
        "outputId": "60dd1f62-7c18-4294-c57f-451f6175086f"
      },
      "execution_count": 51,
      "outputs": [
        {
          "output_type": "execute_result",
          "data": {
            "text/plain": [
              "1797"
            ]
          },
          "metadata": {},
          "execution_count": 51
        }
      ]
    },
    {
      "cell_type": "code",
      "source": [
        "n_samples = len(df.images)\n",
        "data = df.images.reshape((n_samples, -1))"
      ],
      "metadata": {
        "id": "cduZRi5JI-G5"
      },
      "execution_count": 53,
      "outputs": []
    },
    {
      "cell_type": "code",
      "source": [
        "data[0]"
      ],
      "metadata": {
        "colab": {
          "base_uri": "https://localhost:8080/"
        },
        "id": "09BULykNLlnN",
        "outputId": "22450e69-f35b-4f21-fb0d-84730a144480"
      },
      "execution_count": 54,
      "outputs": [
        {
          "output_type": "execute_result",
          "data": {
            "text/plain": [
              "array([ 0.,  0.,  5., 13.,  9.,  1.,  0.,  0.,  0.,  0., 13., 15., 10.,\n",
              "       15.,  5.,  0.,  0.,  3., 15.,  2.,  0., 11.,  8.,  0.,  0.,  4.,\n",
              "       12.,  0.,  0.,  8.,  8.,  0.,  0.,  5.,  8.,  0.,  0.,  9.,  8.,\n",
              "        0.,  0.,  4., 11.,  0.,  1., 12.,  7.,  0.,  0.,  2., 14.,  5.,\n",
              "       10., 12.,  0.,  0.,  0.,  0.,  6., 13., 10.,  0.,  0.,  0.])"
            ]
          },
          "metadata": {},
          "execution_count": 54
        }
      ]
    },
    {
      "cell_type": "code",
      "source": [
        "data[0].shape"
      ],
      "metadata": {
        "colab": {
          "base_uri": "https://localhost:8080/"
        },
        "id": "0YWKiAd0Lqok",
        "outputId": "9891cd04-353b-44b6-cd26-9fea83f9507b"
      },
      "execution_count": 55,
      "outputs": [
        {
          "output_type": "execute_result",
          "data": {
            "text/plain": [
              "(64,)"
            ]
          },
          "metadata": {},
          "execution_count": 55
        }
      ]
    },
    {
      "cell_type": "code",
      "source": [
        "data.shape"
      ],
      "metadata": {
        "colab": {
          "base_uri": "https://localhost:8080/"
        },
        "id": "xqJia5gHLvxH",
        "outputId": "cba5d055-63c1-4889-9b94-960900e5be92"
      },
      "execution_count": 56,
      "outputs": [
        {
          "output_type": "execute_result",
          "data": {
            "text/plain": [
              "(1797, 64)"
            ]
          },
          "metadata": {},
          "execution_count": 56
        }
      ]
    },
    {
      "cell_type": "code",
      "source": [
        "data.min()"
      ],
      "metadata": {
        "colab": {
          "base_uri": "https://localhost:8080/"
        },
        "id": "EwdzchsRL1vc",
        "outputId": "dc1559df-59e3-4f97-a491-680e6ec29ee1"
      },
      "execution_count": 57,
      "outputs": [
        {
          "output_type": "execute_result",
          "data": {
            "text/plain": [
              "0.0"
            ]
          },
          "metadata": {},
          "execution_count": 57
        }
      ]
    },
    {
      "cell_type": "code",
      "source": [
        "data.max()"
      ],
      "metadata": {
        "colab": {
          "base_uri": "https://localhost:8080/"
        },
        "id": "2yg-1xVTL570",
        "outputId": "7f80e213-c8c8-448c-966e-4762c340ac60"
      },
      "execution_count": 58,
      "outputs": [
        {
          "output_type": "execute_result",
          "data": {
            "text/plain": [
              "16.0"
            ]
          },
          "metadata": {},
          "execution_count": 58
        }
      ]
    },
    {
      "cell_type": "code",
      "source": [
        "data = data/16"
      ],
      "metadata": {
        "id": "c4SuL596L8xZ"
      },
      "execution_count": 59,
      "outputs": []
    },
    {
      "cell_type": "code",
      "source": [
        "data.min()"
      ],
      "metadata": {
        "colab": {
          "base_uri": "https://localhost:8080/"
        },
        "id": "YgfyK234MBed",
        "outputId": "531afe9d-1430-4fbc-dc3b-d4739cefa6c1"
      },
      "execution_count": 60,
      "outputs": [
        {
          "output_type": "execute_result",
          "data": {
            "text/plain": [
              "0.0"
            ]
          },
          "metadata": {},
          "execution_count": 60
        }
      ]
    },
    {
      "cell_type": "code",
      "source": [
        "data.max()"
      ],
      "metadata": {
        "colab": {
          "base_uri": "https://localhost:8080/"
        },
        "id": "6icH6sDiMKAt",
        "outputId": "82dce3e3-7b50-4833-9932-e5d630818980"
      },
      "execution_count": 61,
      "outputs": [
        {
          "output_type": "execute_result",
          "data": {
            "text/plain": [
              "1.0"
            ]
          },
          "metadata": {},
          "execution_count": 61
        }
      ]
    },
    {
      "cell_type": "code",
      "source": [
        "data[0]"
      ],
      "metadata": {
        "colab": {
          "base_uri": "https://localhost:8080/"
        },
        "id": "PlZWqL47MOrQ",
        "outputId": "5457e791-5503-463d-d041-0c41d96d8db6"
      },
      "execution_count": 62,
      "outputs": [
        {
          "output_type": "execute_result",
          "data": {
            "text/plain": [
              "array([0.    , 0.    , 0.3125, 0.8125, 0.5625, 0.0625, 0.    , 0.    ,\n",
              "       0.    , 0.    , 0.8125, 0.9375, 0.625 , 0.9375, 0.3125, 0.    ,\n",
              "       0.    , 0.1875, 0.9375, 0.125 , 0.    , 0.6875, 0.5   , 0.    ,\n",
              "       0.    , 0.25  , 0.75  , 0.    , 0.    , 0.5   , 0.5   , 0.    ,\n",
              "       0.    , 0.3125, 0.5   , 0.    , 0.    , 0.5625, 0.5   , 0.    ,\n",
              "       0.    , 0.25  , 0.6875, 0.    , 0.0625, 0.75  , 0.4375, 0.    ,\n",
              "       0.    , 0.125 , 0.875 , 0.3125, 0.625 , 0.75  , 0.    , 0.    ,\n",
              "       0.    , 0.    , 0.375 , 0.8125, 0.625 , 0.    , 0.    , 0.    ])"
            ]
          },
          "metadata": {},
          "execution_count": 62
        }
      ]
    },
    {
      "cell_type": "code",
      "source": [
        "from sklearn.model_selection import train_test_split\n"
      ],
      "metadata": {
        "id": "1ACbPljkMV_1"
      },
      "execution_count": 67,
      "outputs": []
    },
    {
      "cell_type": "code",
      "source": [
        "X_train,X_test,y_train,y_test = train_test_split(data, df.target, test_size = 0.3)"
      ],
      "metadata": {
        "id": "lwQIt-LNMfka"
      },
      "execution_count": 70,
      "outputs": []
    },
    {
      "cell_type": "code",
      "source": [
        "X_train.shape,X_test.shape,y_train.shape,y_test.shape"
      ],
      "metadata": {
        "colab": {
          "base_uri": "https://localhost:8080/"
        },
        "id": "RAm0njyfMy1w",
        "outputId": "e5b848a9-0bf3-4139-ebb3-c768e8b5e54a"
      },
      "execution_count": 71,
      "outputs": [
        {
          "output_type": "execute_result",
          "data": {
            "text/plain": [
              "((1257, 64), (540, 64), (1257,), (540,))"
            ]
          },
          "metadata": {},
          "execution_count": 71
        }
      ]
    },
    {
      "cell_type": "code",
      "source": [
        "from sklearn.ensemble import RandomForestClassifier"
      ],
      "metadata": {
        "id": "F0LdrMDkN03-"
      },
      "execution_count": 72,
      "outputs": []
    },
    {
      "cell_type": "code",
      "source": [
        "rf = RandomForestClassifier()"
      ],
      "metadata": {
        "id": "ls6G3z1lORGT"
      },
      "execution_count": 73,
      "outputs": []
    },
    {
      "cell_type": "code",
      "source": [
        "rf.fit(X_train,y_train)"
      ],
      "metadata": {
        "colab": {
          "base_uri": "https://localhost:8080/",
          "height": 74
        },
        "id": "i5myWPp1OZFw",
        "outputId": "6c0d2633-63fe-45d3-b3d7-4b45b1415ff9"
      },
      "execution_count": 74,
      "outputs": [
        {
          "output_type": "execute_result",
          "data": {
            "text/plain": [
              "RandomForestClassifier()"
            ],
            "text/html": [
              "<style>#sk-container-id-1 {color: black;background-color: white;}#sk-container-id-1 pre{padding: 0;}#sk-container-id-1 div.sk-toggleable {background-color: white;}#sk-container-id-1 label.sk-toggleable__label {cursor: pointer;display: block;width: 100%;margin-bottom: 0;padding: 0.3em;box-sizing: border-box;text-align: center;}#sk-container-id-1 label.sk-toggleable__label-arrow:before {content: \"▸\";float: left;margin-right: 0.25em;color: #696969;}#sk-container-id-1 label.sk-toggleable__label-arrow:hover:before {color: black;}#sk-container-id-1 div.sk-estimator:hover label.sk-toggleable__label-arrow:before {color: black;}#sk-container-id-1 div.sk-toggleable__content {max-height: 0;max-width: 0;overflow: hidden;text-align: left;background-color: #f0f8ff;}#sk-container-id-1 div.sk-toggleable__content pre {margin: 0.2em;color: black;border-radius: 0.25em;background-color: #f0f8ff;}#sk-container-id-1 input.sk-toggleable__control:checked~div.sk-toggleable__content {max-height: 200px;max-width: 100%;overflow: auto;}#sk-container-id-1 input.sk-toggleable__control:checked~label.sk-toggleable__label-arrow:before {content: \"▾\";}#sk-container-id-1 div.sk-estimator input.sk-toggleable__control:checked~label.sk-toggleable__label {background-color: #d4ebff;}#sk-container-id-1 div.sk-label input.sk-toggleable__control:checked~label.sk-toggleable__label {background-color: #d4ebff;}#sk-container-id-1 input.sk-hidden--visually {border: 0;clip: rect(1px 1px 1px 1px);clip: rect(1px, 1px, 1px, 1px);height: 1px;margin: -1px;overflow: hidden;padding: 0;position: absolute;width: 1px;}#sk-container-id-1 div.sk-estimator {font-family: monospace;background-color: #f0f8ff;border: 1px dotted black;border-radius: 0.25em;box-sizing: border-box;margin-bottom: 0.5em;}#sk-container-id-1 div.sk-estimator:hover {background-color: #d4ebff;}#sk-container-id-1 div.sk-parallel-item::after {content: \"\";width: 100%;border-bottom: 1px solid gray;flex-grow: 1;}#sk-container-id-1 div.sk-label:hover label.sk-toggleable__label {background-color: #d4ebff;}#sk-container-id-1 div.sk-serial::before {content: \"\";position: absolute;border-left: 1px solid gray;box-sizing: border-box;top: 0;bottom: 0;left: 50%;z-index: 0;}#sk-container-id-1 div.sk-serial {display: flex;flex-direction: column;align-items: center;background-color: white;padding-right: 0.2em;padding-left: 0.2em;position: relative;}#sk-container-id-1 div.sk-item {position: relative;z-index: 1;}#sk-container-id-1 div.sk-parallel {display: flex;align-items: stretch;justify-content: center;background-color: white;position: relative;}#sk-container-id-1 div.sk-item::before, #sk-container-id-1 div.sk-parallel-item::before {content: \"\";position: absolute;border-left: 1px solid gray;box-sizing: border-box;top: 0;bottom: 0;left: 50%;z-index: -1;}#sk-container-id-1 div.sk-parallel-item {display: flex;flex-direction: column;z-index: 1;position: relative;background-color: white;}#sk-container-id-1 div.sk-parallel-item:first-child::after {align-self: flex-end;width: 50%;}#sk-container-id-1 div.sk-parallel-item:last-child::after {align-self: flex-start;width: 50%;}#sk-container-id-1 div.sk-parallel-item:only-child::after {width: 0;}#sk-container-id-1 div.sk-dashed-wrapped {border: 1px dashed gray;margin: 0 0.4em 0.5em 0.4em;box-sizing: border-box;padding-bottom: 0.4em;background-color: white;}#sk-container-id-1 div.sk-label label {font-family: monospace;font-weight: bold;display: inline-block;line-height: 1.2em;}#sk-container-id-1 div.sk-label-container {text-align: center;}#sk-container-id-1 div.sk-container {/* jupyter's `normalize.less` sets `[hidden] { display: none; }` but bootstrap.min.css set `[hidden] { display: none !important; }` so we also need the `!important` here to be able to override the default hidden behavior on the sphinx rendered scikit-learn.org. See: https://github.com/scikit-learn/scikit-learn/issues/21755 */display: inline-block !important;position: relative;}#sk-container-id-1 div.sk-text-repr-fallback {display: none;}</style><div id=\"sk-container-id-1\" class=\"sk-top-container\"><div class=\"sk-text-repr-fallback\"><pre>RandomForestClassifier()</pre><b>In a Jupyter environment, please rerun this cell to show the HTML representation or trust the notebook. <br />On GitHub, the HTML representation is unable to render, please try loading this page with nbviewer.org.</b></div><div class=\"sk-container\" hidden><div class=\"sk-item\"><div class=\"sk-estimator sk-toggleable\"><input class=\"sk-toggleable__control sk-hidden--visually\" id=\"sk-estimator-id-1\" type=\"checkbox\" checked><label for=\"sk-estimator-id-1\" class=\"sk-toggleable__label sk-toggleable__label-arrow\">RandomForestClassifier</label><div class=\"sk-toggleable__content\"><pre>RandomForestClassifier()</pre></div></div></div></div></div>"
            ]
          },
          "metadata": {},
          "execution_count": 74
        }
      ]
    },
    {
      "cell_type": "code",
      "source": [
        "y_pred = rf.predict(X_test)"
      ],
      "metadata": {
        "id": "qiiP9vjsOns6"
      },
      "execution_count": 75,
      "outputs": []
    },
    {
      "cell_type": "code",
      "source": [
        "y_pred"
      ],
      "metadata": {
        "colab": {
          "base_uri": "https://localhost:8080/"
        },
        "id": "PMyPyQSQP7kX",
        "outputId": "6e345dea-59be-489b-ef35-5ebb3db80688"
      },
      "execution_count": 76,
      "outputs": [
        {
          "output_type": "execute_result",
          "data": {
            "text/plain": [
              "array([9, 6, 1, 7, 4, 5, 5, 8, 2, 1, 1, 0, 3, 7, 8, 6, 3, 7, 7, 1, 9, 7,\n",
              "       5, 9, 0, 7, 5, 0, 5, 2, 7, 7, 0, 8, 5, 7, 5, 8, 5, 6, 0, 3, 9, 3,\n",
              "       1, 9, 8, 3, 8, 9, 6, 5, 3, 7, 0, 5, 3, 0, 4, 4, 5, 3, 2, 7, 2, 4,\n",
              "       0, 5, 8, 6, 5, 7, 6, 5, 7, 5, 8, 8, 3, 8, 2, 5, 8, 6, 2, 9, 2, 1,\n",
              "       8, 2, 4, 6, 9, 3, 8, 6, 0, 0, 3, 7, 7, 8, 9, 7, 3, 0, 8, 9, 6, 5,\n",
              "       8, 9, 3, 3, 4, 3, 3, 8, 7, 2, 2, 3, 2, 3, 9, 6, 2, 3, 7, 8, 4, 5,\n",
              "       7, 6, 9, 5, 1, 9, 4, 0, 1, 3, 8, 2, 2, 3, 2, 6, 3, 5, 5, 7, 8, 6,\n",
              "       9, 5, 8, 3, 6, 3, 9, 5, 1, 8, 6, 2, 4, 2, 6, 3, 7, 5, 4, 1, 3, 5,\n",
              "       4, 0, 1, 5, 9, 1, 9, 6, 3, 8, 6, 4, 4, 9, 1, 9, 4, 2, 6, 6, 8, 7,\n",
              "       4, 8, 0, 9, 4, 1, 9, 3, 9, 2, 4, 4, 6, 3, 5, 0, 6, 8, 2, 7, 7, 2,\n",
              "       4, 8, 4, 0, 6, 2, 5, 7, 4, 5, 8, 4, 7, 2, 3, 6, 7, 0, 5, 4, 8, 2,\n",
              "       7, 7, 0, 4, 2, 1, 9, 1, 8, 0, 3, 9, 4, 7, 6, 8, 8, 1, 9, 6, 1, 4,\n",
              "       8, 2, 0, 7, 6, 8, 3, 4, 5, 7, 0, 2, 2, 5, 3, 2, 8, 0, 5, 9, 9, 9,\n",
              "       4, 2, 8, 5, 9, 0, 7, 1, 6, 3, 0, 4, 8, 4, 7, 0, 1, 8, 7, 5, 8, 5,\n",
              "       4, 6, 4, 5, 7, 2, 1, 2, 4, 7, 1, 8, 4, 6, 4, 3, 6, 1, 8, 6, 3, 9,\n",
              "       8, 6, 9, 0, 1, 3, 7, 5, 0, 3, 7, 8, 6, 2, 3, 7, 2, 7, 7, 0, 8, 9,\n",
              "       3, 0, 9, 7, 7, 5, 2, 9, 1, 2, 4, 4, 6, 7, 1, 7, 4, 2, 6, 2, 7, 9,\n",
              "       5, 5, 7, 8, 1, 6, 3, 1, 6, 6, 9, 9, 4, 3, 7, 7, 7, 4, 1, 3, 8, 8,\n",
              "       2, 4, 7, 1, 9, 1, 6, 3, 3, 7, 6, 5, 8, 1, 0, 7, 2, 8, 8, 5, 6, 7,\n",
              "       8, 6, 0, 1, 8, 6, 2, 4, 2, 8, 7, 4, 6, 6, 1, 4, 7, 1, 3, 2, 4, 0,\n",
              "       1, 0, 0, 1, 4, 4, 7, 2, 5, 6, 5, 1, 4, 8, 9, 1, 0, 7, 6, 6, 3, 1,\n",
              "       3, 2, 8, 4, 2, 5, 2, 4, 6, 3, 2, 3, 4, 5, 2, 2, 6, 9, 2, 0, 6, 0,\n",
              "       9, 1, 3, 6, 2, 1, 7, 2, 9, 9, 1, 7, 4, 6, 0, 3, 0, 4, 1, 1, 9, 5,\n",
              "       5, 7, 2, 6, 7, 2, 9, 3, 5, 1, 9, 2, 6, 2, 0, 9, 7, 7, 2, 7, 2, 6,\n",
              "       2, 1, 3, 2, 7, 5, 2, 3, 8, 5, 1, 8])"
            ]
          },
          "metadata": {},
          "execution_count": 76
        }
      ]
    },
    {
      "cell_type": "code",
      "source": [
        "from sklearn.metrics import confusion_matrix, classification_report"
      ],
      "metadata": {
        "id": "Lfl9e332VWk2"
      },
      "execution_count": 83,
      "outputs": []
    },
    {
      "cell_type": "code",
      "source": [
        "confusion_matrix(y_test, y_pred)"
      ],
      "metadata": {
        "colab": {
          "base_uri": "https://localhost:8080/"
        },
        "id": "bQ_GpZo8TEX-",
        "outputId": "93a72529-88c1-45f5-fcaf-8bd73c2298e2"
      },
      "execution_count": 84,
      "outputs": [
        {
          "output_type": "execute_result",
          "data": {
            "text/plain": [
              "array([[40,  0,  0,  0,  0,  0,  0,  0,  0,  0],\n",
              "       [ 0, 48,  0,  0,  0,  0,  0,  0,  0,  0],\n",
              "       [ 0,  0, 60,  0,  0,  0,  0,  0,  0,  0],\n",
              "       [ 0,  0,  1, 55,  0,  1,  0,  0,  1,  0],\n",
              "       [ 0,  0,  0,  0, 52,  0,  0,  1,  0,  0],\n",
              "       [ 0,  0,  0,  0,  1, 49,  0,  0,  0,  0],\n",
              "       [ 0,  0,  0,  0,  0,  1, 58,  0,  1,  0],\n",
              "       [ 0,  0,  0,  0,  0,  0,  0, 65,  0,  0],\n",
              "       [ 0,  0,  1,  0,  0,  0,  0,  0, 54,  0],\n",
              "       [ 0,  0,  0,  0,  0,  1,  0,  1,  1, 48]])"
            ]
          },
          "metadata": {},
          "execution_count": 84
        }
      ]
    },
    {
      "cell_type": "code",
      "source": [
        "print(classification_report(y_test,y_pred))"
      ],
      "metadata": {
        "colab": {
          "base_uri": "https://localhost:8080/"
        },
        "id": "RbCb9JAXViY8",
        "outputId": "f5a02ff0-2360-4a2c-affa-b1cd28c9a547"
      },
      "execution_count": 85,
      "outputs": [
        {
          "output_type": "stream",
          "name": "stdout",
          "text": [
            "              precision    recall  f1-score   support\n",
            "\n",
            "           0       1.00      1.00      1.00        40\n",
            "           1       1.00      1.00      1.00        48\n",
            "           2       0.97      1.00      0.98        60\n",
            "           3       1.00      0.95      0.97        58\n",
            "           4       0.98      0.98      0.98        53\n",
            "           5       0.94      0.98      0.96        50\n",
            "           6       1.00      0.97      0.98        60\n",
            "           7       0.97      1.00      0.98        65\n",
            "           8       0.95      0.98      0.96        55\n",
            "           9       1.00      0.94      0.97        51\n",
            "\n",
            "    accuracy                           0.98       540\n",
            "   macro avg       0.98      0.98      0.98       540\n",
            "weighted avg       0.98      0.98      0.98       540\n",
            "\n"
          ]
        }
      ]
    }
  ]
}